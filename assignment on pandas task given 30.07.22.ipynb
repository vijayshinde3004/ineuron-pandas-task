{
 "cells": [
  {
   "cell_type": "markdown",
   "id": "55c250a4",
   "metadata": {},
   "source": [
    "# Task solution"
   ]
  },
  {
   "cell_type": "code",
   "execution_count": null,
   "id": "3a9f1d33",
   "metadata": {},
   "outputs": [],
   "source": [
    "https://drive.google.com/file/d/1FRnbQqgK6S-mr9StNF5MurSaXhah9uoJ/view?usp=sharing\n",
    "\n",
    "\n",
    "https://drive.google.com/file/d/11rPJXr-9VoeV2Pi0RSfVehw1tbQOAjLI/view?usp=sharing\n",
    "\n",
    "https://docs.google.com/spreadsheets/d/1z4EWsGxw0YBQ1-51xZDxYNlB3ngJzg4t/edit?usp=sharing&ouid=118282207943964605599&rtpof=true&sd=true\n",
    "\n",
    "\n",
    "https://docs.google.com/spreadsheets/d/1z2n8aeFF5GoohQ3KCZw8bKogezpO9l4k/edit?usp=sharing&ouid=118282207943964605599&rtpof=true&sd=true\n",
    "\n",
    "1 .Find out there avarage rating on weekly basis keep this in a mind that they take two days of leave\n",
    "2 .Total working days for each agents \n",
    "3. Total query that you hvae taken \n",
    "4. total Feedback that you have received \n",
    "5. a agent name who have average rating between 3.5 to 4 \n",
    "6 . Agent name who have rating lesss then 3.5 \n",
    "7 . agent name who have rating more then 4.5 \n",
    "8 . how many feedaback agents have received more then 4.5 average\n",
    "9 . average weekly response time for each agent \n",
    "10 . average weekely resolution time for each agents \n",
    "11 . list of all agents name \n",
    "12 . percentage of chat on which they have received a feedback \n",
    "13 . Total contributation hour for each and every agents weekly basis \n",
    "14. total percentage of active hour for a month \n",
    "\n",
    "sunny.savita@ineuron.ai ,sudhanshu@ineuron.ai\n",
    "\n",
    "deadline of complition of this task is 12 AM IST today \n",
    "\n",
    "After that if you will submit your task i wont evaluate it at all , excuses will be given to new \n",
    "joiners "
   ]
  },
  {
   "cell_type": "code",
   "execution_count": 3,
   "id": "b8b72b3a",
   "metadata": {},
   "outputs": [],
   "source": [
    "import pandas as pd\n",
    "import numpy as np"
   ]
  },
  {
   "cell_type": "code",
   "execution_count": 2,
   "id": "52766344",
   "metadata": {},
   "outputs": [],
   "source": [
    "al=pd.read_csv(r\"C:\\Users\\LENOVO\\ineuron\\given notes\\pandas\\AgentLogingReport.csv\")"
   ]
  },
  {
   "cell_type": "code",
   "execution_count": 23,
   "id": "f08d51c5",
   "metadata": {},
   "outputs": [
    {
     "data": {
      "text/html": [
       "<div>\n",
       "<style scoped>\n",
       "    .dataframe tbody tr th:only-of-type {\n",
       "        vertical-align: middle;\n",
       "    }\n",
       "\n",
       "    .dataframe tbody tr th {\n",
       "        vertical-align: top;\n",
       "    }\n",
       "\n",
       "    .dataframe thead th {\n",
       "        text-align: right;\n",
       "    }\n",
       "</style>\n",
       "<table border=\"1\" class=\"dataframe\">\n",
       "  <thead>\n",
       "    <tr style=\"text-align: right;\">\n",
       "      <th></th>\n",
       "      <th>SL No</th>\n",
       "      <th>Agent</th>\n",
       "      <th>Date</th>\n",
       "      <th>Login Time</th>\n",
       "      <th>Logout Time</th>\n",
       "      <th>Duration</th>\n",
       "    </tr>\n",
       "  </thead>\n",
       "  <tbody>\n",
       "    <tr>\n",
       "      <th>0</th>\n",
       "      <td>1</td>\n",
       "      <td>Shivananda Sonwane</td>\n",
       "      <td>30-Jul-22</td>\n",
       "      <td>15:35:29</td>\n",
       "      <td>17:39:39</td>\n",
       "      <td>02:04:10</td>\n",
       "    </tr>\n",
       "    <tr>\n",
       "      <th>1</th>\n",
       "      <td>2</td>\n",
       "      <td>Khushboo Priya</td>\n",
       "      <td>30-Jul-22</td>\n",
       "      <td>15:06:59</td>\n",
       "      <td>15:07:16</td>\n",
       "      <td>00:00:17</td>\n",
       "    </tr>\n",
       "    <tr>\n",
       "      <th>2</th>\n",
       "      <td>3</td>\n",
       "      <td>Nandani Gupta</td>\n",
       "      <td>30-Jul-22</td>\n",
       "      <td>15:04:24</td>\n",
       "      <td>17:31:07</td>\n",
       "      <td>02:26:42</td>\n",
       "    </tr>\n",
       "    <tr>\n",
       "      <th>3</th>\n",
       "      <td>4</td>\n",
       "      <td>Hrisikesh Neogi</td>\n",
       "      <td>30-Jul-22</td>\n",
       "      <td>14:34:29</td>\n",
       "      <td>15:19:35</td>\n",
       "      <td>00:45:06</td>\n",
       "    </tr>\n",
       "    <tr>\n",
       "      <th>4</th>\n",
       "      <td>5</td>\n",
       "      <td>Mukesh</td>\n",
       "      <td>30-Jul-22</td>\n",
       "      <td>14:03:15</td>\n",
       "      <td>15:11:52</td>\n",
       "      <td>01:08:36</td>\n",
       "    </tr>\n",
       "    <tr>\n",
       "      <th>...</th>\n",
       "      <td>...</td>\n",
       "      <td>...</td>\n",
       "      <td>...</td>\n",
       "      <td>...</td>\n",
       "      <td>...</td>\n",
       "      <td>...</td>\n",
       "    </tr>\n",
       "    <tr>\n",
       "      <th>995</th>\n",
       "      <td>996</td>\n",
       "      <td>Manjunatha A</td>\n",
       "      <td>20-Jul-22</td>\n",
       "      <td>09:03:51</td>\n",
       "      <td>15:02:28</td>\n",
       "      <td>05:58:37</td>\n",
       "    </tr>\n",
       "    <tr>\n",
       "      <th>996</th>\n",
       "      <td>997</td>\n",
       "      <td>Bharath</td>\n",
       "      <td>20-Jul-22</td>\n",
       "      <td>09:00:49</td>\n",
       "      <td>15:01:32</td>\n",
       "      <td>06:00:43</td>\n",
       "    </tr>\n",
       "    <tr>\n",
       "      <th>997</th>\n",
       "      <td>998</td>\n",
       "      <td>Khushboo Priya</td>\n",
       "      <td>20-Jul-22</td>\n",
       "      <td>08:59:20</td>\n",
       "      <td>14:26:55</td>\n",
       "      <td>05:27:34</td>\n",
       "    </tr>\n",
       "    <tr>\n",
       "      <th>998</th>\n",
       "      <td>999</td>\n",
       "      <td>Nishtha Jain</td>\n",
       "      <td>20-Jul-22</td>\n",
       "      <td>08:43:55</td>\n",
       "      <td>14:00:33</td>\n",
       "      <td>05:16:38</td>\n",
       "    </tr>\n",
       "    <tr>\n",
       "      <th>999</th>\n",
       "      <td>1000</td>\n",
       "      <td>Tarun</td>\n",
       "      <td>01-Jul-22</td>\n",
       "      <td>01:52:47</td>\n",
       "      <td>12:01:07</td>\n",
       "      <td>514:08:20</td>\n",
       "    </tr>\n",
       "  </tbody>\n",
       "</table>\n",
       "<p>1000 rows × 6 columns</p>\n",
       "</div>"
      ],
      "text/plain": [
       "     SL No               Agent       Date Login Time Logout Time   Duration\n",
       "0        1  Shivananda Sonwane  30-Jul-22   15:35:29    17:39:39   02:04:10\n",
       "1        2      Khushboo Priya  30-Jul-22   15:06:59    15:07:16   00:00:17\n",
       "2        3       Nandani Gupta  30-Jul-22   15:04:24    17:31:07   02:26:42\n",
       "3        4     Hrisikesh Neogi  30-Jul-22   14:34:29    15:19:35   00:45:06\n",
       "4        5              Mukesh  30-Jul-22   14:03:15    15:11:52   01:08:36\n",
       "..     ...                 ...        ...        ...         ...        ...\n",
       "995    996        Manjunatha A  20-Jul-22   09:03:51    15:02:28   05:58:37\n",
       "996    997             Bharath  20-Jul-22   09:00:49    15:01:32   06:00:43\n",
       "997    998      Khushboo Priya  20-Jul-22   08:59:20    14:26:55   05:27:34\n",
       "998    999        Nishtha Jain  20-Jul-22   08:43:55    14:00:33   05:16:38\n",
       "999   1000               Tarun  01-Jul-22   01:52:47    12:01:07  514:08:20\n",
       "\n",
       "[1000 rows x 6 columns]"
      ]
     },
     "execution_count": 23,
     "metadata": {},
     "output_type": "execute_result"
    }
   ],
   "source": [
    "al"
   ]
  },
  {
   "cell_type": "code",
   "execution_count": 45,
   "id": "252c50c0",
   "metadata": {},
   "outputs": [],
   "source": [
    "ap=pd.read_csv(r\"C:\\Users\\LENOVO\\ineuron\\given notes\\pandas\\AgentPerformance.csv\",parse_dates=[\"Date\",\"Average Response Time\",\"Average Resolution Time\"])"
   ]
  },
  {
   "cell_type": "markdown",
   "id": "f109802c",
   "metadata": {},
   "source": [
    "# 1 .Find out there avarage rating on weekly basis keep this in a mind that they take two days of leave"
   ]
  },
  {
   "cell_type": "code",
   "execution_count": 47,
   "id": "903b4915",
   "metadata": {},
   "outputs": [
    {
     "name": "stderr",
     "output_type": "stream",
     "text": [
      "C:\\Users\\LENOVO\\AppData\\Local\\Temp\\ipykernel_32440\\1309619977.py:1: FutureWarning: Series.dt.weekofyear and Series.dt.week have been deprecated. Please use Series.dt.isocalendar().week instead.\n",
      "  ap[\"week\"]=ap[\"Date\"].dt.week\n"
     ]
    }
   ],
   "source": [
    "ap[\"week\"]=ap[\"Date\"].dt.week"
   ]
  },
  {
   "cell_type": "code",
   "execution_count": 48,
   "id": "816aaa5c",
   "metadata": {},
   "outputs": [
    {
     "data": {
      "text/html": [
       "<div>\n",
       "<style scoped>\n",
       "    .dataframe tbody tr th:only-of-type {\n",
       "        vertical-align: middle;\n",
       "    }\n",
       "\n",
       "    .dataframe tbody tr th {\n",
       "        vertical-align: top;\n",
       "    }\n",
       "\n",
       "    .dataframe thead th {\n",
       "        text-align: right;\n",
       "    }\n",
       "</style>\n",
       "<table border=\"1\" class=\"dataframe\">\n",
       "  <thead>\n",
       "    <tr style=\"text-align: right;\">\n",
       "      <th></th>\n",
       "      <th>SL No</th>\n",
       "      <th>Date</th>\n",
       "      <th>Agent Name</th>\n",
       "      <th>Total Chats</th>\n",
       "      <th>Average Response Time</th>\n",
       "      <th>Average Resolution Time</th>\n",
       "      <th>Average Rating</th>\n",
       "      <th>Total Feedback</th>\n",
       "      <th>week</th>\n",
       "    </tr>\n",
       "  </thead>\n",
       "  <tbody>\n",
       "    <tr>\n",
       "      <th>0</th>\n",
       "      <td>1</td>\n",
       "      <td>2022-07-30</td>\n",
       "      <td>Prerna Singh</td>\n",
       "      <td>11</td>\n",
       "      <td>2022-08-18 00:00:38</td>\n",
       "      <td>2022-08-18 00:04:20</td>\n",
       "      <td>4.11</td>\n",
       "      <td>9</td>\n",
       "      <td>30</td>\n",
       "    </tr>\n",
       "    <tr>\n",
       "      <th>1</th>\n",
       "      <td>2</td>\n",
       "      <td>2022-07-30</td>\n",
       "      <td>Nandani Gupta</td>\n",
       "      <td>11</td>\n",
       "      <td>2022-08-18 00:01:15</td>\n",
       "      <td>2022-08-18 00:28:25</td>\n",
       "      <td>3.14</td>\n",
       "      <td>7</td>\n",
       "      <td>30</td>\n",
       "    </tr>\n",
       "    <tr>\n",
       "      <th>2</th>\n",
       "      <td>3</td>\n",
       "      <td>2022-07-30</td>\n",
       "      <td>Ameya Jain</td>\n",
       "      <td>14</td>\n",
       "      <td>2022-08-18 00:00:30</td>\n",
       "      <td>2022-08-18 00:11:36</td>\n",
       "      <td>4.55</td>\n",
       "      <td>11</td>\n",
       "      <td>30</td>\n",
       "    </tr>\n",
       "    <tr>\n",
       "      <th>3</th>\n",
       "      <td>4</td>\n",
       "      <td>2022-07-30</td>\n",
       "      <td>Mahesh Sarade</td>\n",
       "      <td>14</td>\n",
       "      <td>2022-08-18 00:01:04</td>\n",
       "      <td>2022-08-18 00:15:46</td>\n",
       "      <td>4.71</td>\n",
       "      <td>7</td>\n",
       "      <td>30</td>\n",
       "    </tr>\n",
       "    <tr>\n",
       "      <th>4</th>\n",
       "      <td>5</td>\n",
       "      <td>2022-07-30</td>\n",
       "      <td>Swati</td>\n",
       "      <td>14</td>\n",
       "      <td>2022-08-18 00:01:11</td>\n",
       "      <td>2022-08-18 00:16:33</td>\n",
       "      <td>3.67</td>\n",
       "      <td>6</td>\n",
       "      <td>30</td>\n",
       "    </tr>\n",
       "    <tr>\n",
       "      <th>...</th>\n",
       "      <td>...</td>\n",
       "      <td>...</td>\n",
       "      <td>...</td>\n",
       "      <td>...</td>\n",
       "      <td>...</td>\n",
       "      <td>...</td>\n",
       "      <td>...</td>\n",
       "      <td>...</td>\n",
       "      <td>...</td>\n",
       "    </tr>\n",
       "    <tr>\n",
       "      <th>2155</th>\n",
       "      <td>2156</td>\n",
       "      <td>2022-07-01</td>\n",
       "      <td>Sowmiya Sivakumar</td>\n",
       "      <td>0</td>\n",
       "      <td>2022-08-18 00:00:00</td>\n",
       "      <td>2022-08-18 00:00:00</td>\n",
       "      <td>0.00</td>\n",
       "      <td>0</td>\n",
       "      <td>26</td>\n",
       "    </tr>\n",
       "    <tr>\n",
       "      <th>2156</th>\n",
       "      <td>2157</td>\n",
       "      <td>2022-07-01</td>\n",
       "      <td>Nitin M</td>\n",
       "      <td>0</td>\n",
       "      <td>2022-08-18 00:00:00</td>\n",
       "      <td>2022-08-18 00:00:00</td>\n",
       "      <td>0.00</td>\n",
       "      <td>0</td>\n",
       "      <td>26</td>\n",
       "    </tr>\n",
       "    <tr>\n",
       "      <th>2157</th>\n",
       "      <td>2158</td>\n",
       "      <td>2022-07-01</td>\n",
       "      <td>Vivek</td>\n",
       "      <td>0</td>\n",
       "      <td>2022-08-18 00:00:00</td>\n",
       "      <td>2022-08-18 00:00:00</td>\n",
       "      <td>0.00</td>\n",
       "      <td>0</td>\n",
       "      <td>26</td>\n",
       "    </tr>\n",
       "    <tr>\n",
       "      <th>2158</th>\n",
       "      <td>2159</td>\n",
       "      <td>2022-07-01</td>\n",
       "      <td>Ayushi Mishra</td>\n",
       "      <td>0</td>\n",
       "      <td>2022-08-18 00:00:00</td>\n",
       "      <td>2022-08-18 00:00:00</td>\n",
       "      <td>0.00</td>\n",
       "      <td>0</td>\n",
       "      <td>26</td>\n",
       "    </tr>\n",
       "    <tr>\n",
       "      <th>2159</th>\n",
       "      <td>2160</td>\n",
       "      <td>2022-07-01</td>\n",
       "      <td>Chaitra K Hiremath</td>\n",
       "      <td>0</td>\n",
       "      <td>2022-08-18 00:00:00</td>\n",
       "      <td>2022-08-18 00:00:00</td>\n",
       "      <td>0.00</td>\n",
       "      <td>0</td>\n",
       "      <td>26</td>\n",
       "    </tr>\n",
       "  </tbody>\n",
       "</table>\n",
       "<p>2160 rows × 9 columns</p>\n",
       "</div>"
      ],
      "text/plain": [
       "      SL No       Date          Agent Name  Total Chats Average Response Time  \\\n",
       "0         1 2022-07-30        Prerna Singh           11   2022-08-18 00:00:38   \n",
       "1         2 2022-07-30       Nandani Gupta           11   2022-08-18 00:01:15   \n",
       "2         3 2022-07-30          Ameya Jain           14   2022-08-18 00:00:30   \n",
       "3         4 2022-07-30       Mahesh Sarade           14   2022-08-18 00:01:04   \n",
       "4         5 2022-07-30              Swati            14   2022-08-18 00:01:11   \n",
       "...     ...        ...                 ...          ...                   ...   \n",
       "2155   2156 2022-07-01   Sowmiya Sivakumar            0   2022-08-18 00:00:00   \n",
       "2156   2157 2022-07-01             Nitin M            0   2022-08-18 00:00:00   \n",
       "2157   2158 2022-07-01              Vivek             0   2022-08-18 00:00:00   \n",
       "2158   2159 2022-07-01       Ayushi Mishra            0   2022-08-18 00:00:00   \n",
       "2159   2160 2022-07-01  Chaitra K Hiremath            0   2022-08-18 00:00:00   \n",
       "\n",
       "     Average Resolution Time  Average Rating  Total Feedback  week  \n",
       "0        2022-08-18 00:04:20            4.11               9    30  \n",
       "1        2022-08-18 00:28:25            3.14               7    30  \n",
       "2        2022-08-18 00:11:36            4.55              11    30  \n",
       "3        2022-08-18 00:15:46            4.71               7    30  \n",
       "4        2022-08-18 00:16:33            3.67               6    30  \n",
       "...                      ...             ...             ...   ...  \n",
       "2155     2022-08-18 00:00:00            0.00               0    26  \n",
       "2156     2022-08-18 00:00:00            0.00               0    26  \n",
       "2157     2022-08-18 00:00:00            0.00               0    26  \n",
       "2158     2022-08-18 00:00:00            0.00               0    26  \n",
       "2159     2022-08-18 00:00:00            0.00               0    26  \n",
       "\n",
       "[2160 rows x 9 columns]"
      ]
     },
     "execution_count": 48,
     "metadata": {},
     "output_type": "execute_result"
    }
   ],
   "source": [
    "ap"
   ]
  },
  {
   "cell_type": "code",
   "execution_count": 41,
   "id": "8bb9a4dd",
   "metadata": {},
   "outputs": [],
   "source": [
    "avgrating=ap.groupby([\"Agent Name\",\"week\"])[\"Average Rating\"].mean()"
   ]
  },
  {
   "cell_type": "code",
   "execution_count": 42,
   "id": "bd84c25d",
   "metadata": {},
   "outputs": [
    {
     "data": {
      "text/plain": [
       "Agent Name  week\n",
       "Abhishek    26      0.000000\n",
       "            27      0.000000\n",
       "            28      0.000000\n",
       "            29      0.000000\n",
       "            30      0.000000\n",
       "                      ...   \n",
       "Zeeshan     26      0.000000\n",
       "            27      1.307143\n",
       "            28      2.948571\n",
       "            29      3.180000\n",
       "            30      2.760000\n",
       "Name: Average Rating, Length: 350, dtype: float64"
      ]
     },
     "execution_count": 42,
     "metadata": {},
     "output_type": "execute_result"
    }
   ],
   "source": [
    "avgrating"
   ]
  },
  {
   "cell_type": "markdown",
   "id": "e0abb1f3",
   "metadata": {},
   "source": [
    "# 2 .Total working days for each agent"
   ]
  },
  {
   "cell_type": "code",
   "execution_count": 43,
   "id": "7af353ae",
   "metadata": {},
   "outputs": [],
   "source": [
    "totalday=al.groupby([\"Agent\"])[\"Date\"].count()"
   ]
  },
  {
   "cell_type": "code",
   "execution_count": 44,
   "id": "de5a94ca",
   "metadata": {},
   "outputs": [
    {
     "data": {
      "text/plain": [
       "Agent\n",
       "Aditya Shinde               1\n",
       "Aditya_iot                  9\n",
       "Amersh                      4\n",
       "Ameya Jain                 10\n",
       "Ankitjha                    4\n",
       "Anurag Tiwari              37\n",
       "Aravind                    10\n",
       "Ayushi Mishra              18\n",
       "Bharath                     9\n",
       "Boktiar Ahmed Bappy        17\n",
       "Chaitra K Hiremath         13\n",
       "Deepranjan Gupta           58\n",
       "Dibyanshu                 208\n",
       "Harikrishnan Shaji         23\n",
       "Hrisikesh Neogi            37\n",
       "Hyder Abbas                 2\n",
       "Ineuron Intelligence        1\n",
       "Ishawant Kumar             49\n",
       "Jawala Prakash             16\n",
       "Jaydeep Dixit              11\n",
       "Khushboo Priya             18\n",
       "Madhulika G                17\n",
       "Mahesh Sarade              36\n",
       "Maitry                      5\n",
       "Manjunatha A                8\n",
       "Mithun S                   14\n",
       "Mukesh                      3\n",
       "Muskan Garg                12\n",
       "Nandani Gupta              11\n",
       "Nishtha Jain               18\n",
       "Nitin M                     1\n",
       "Prabir Kumar Satapathy     26\n",
       "Prateek _iot               17\n",
       "Prerna Singh               18\n",
       "Rishav Dash                12\n",
       "Saikumarreddy N            10\n",
       "Sanjeev Kumar              20\n",
       "Saurabh Shukla             40\n",
       "Shiva Srivastava           15\n",
       "Shivan K                   36\n",
       "Shivananda Sonwane         15\n",
       "Shubham Sharma             35\n",
       "Sowmiya Sivakumar          24\n",
       "Sudhanshu Kumar            11\n",
       "Suraj S Bilgi               5\n",
       "Swati                       5\n",
       "Tarun                       1\n",
       "Wasim                      20\n",
       "Zeeshan                    10\n",
       "Name: Date, dtype: int64"
      ]
     },
     "execution_count": 44,
     "metadata": {},
     "output_type": "execute_result"
    }
   ],
   "source": [
    "totalday"
   ]
  },
  {
   "cell_type": "code",
   "execution_count": 18,
   "id": "2b4a00a5",
   "metadata": {},
   "outputs": [
    {
     "data": {
      "text/plain": [
       "49"
      ]
     },
     "execution_count": 18,
     "metadata": {},
     "output_type": "execute_result"
    }
   ],
   "source": [
    "al[\"Agent\"].unique()\n"
   ]
  },
  {
   "cell_type": "markdown",
   "id": "f5296bb6",
   "metadata": {},
   "source": [
    "# 3. Total query that you have taken "
   ]
  },
  {
   "cell_type": "code",
   "execution_count": 53,
   "id": "71865468",
   "metadata": {},
   "outputs": [
    {
     "data": {
      "text/plain": [
       "Agent Name\n",
       "Abhishek           0\n",
       "Aditya             0\n",
       "Aditya Shinde    277\n",
       "Aditya_iot       231\n",
       "Amersh             0\n",
       "                ... \n",
       "Uday Mishra        0\n",
       "Vasanth P          0\n",
       "Vivek             44\n",
       "Wasim            433\n",
       "Zeeshan          542\n",
       "Name: Total Chats, Length: 70, dtype: int64"
      ]
     },
     "execution_count": 53,
     "metadata": {},
     "output_type": "execute_result"
    }
   ],
   "source": [
    "ap.groupby([\"Agent Name\"])[\"Total Chats\"].sum()"
   ]
  },
  {
   "cell_type": "markdown",
   "id": "89dad493",
   "metadata": {},
   "source": [
    "# 4. total Feedback that you have received "
   ]
  },
  {
   "cell_type": "code",
   "execution_count": 54,
   "id": "78e0a251",
   "metadata": {},
   "outputs": [
    {
     "data": {
      "text/plain": [
       "Agent Name\n",
       "Abhishek           0\n",
       "Aditya             0\n",
       "Aditya Shinde    153\n",
       "Aditya_iot       131\n",
       "Amersh             0\n",
       "                ... \n",
       "Uday Mishra        0\n",
       "Vasanth P          0\n",
       "Vivek             20\n",
       "Wasim            284\n",
       "Zeeshan          335\n",
       "Name: Total Feedback, Length: 70, dtype: int64"
      ]
     },
     "execution_count": 54,
     "metadata": {},
     "output_type": "execute_result"
    }
   ],
   "source": [
    "ap.groupby([\"Agent Name\"])[\"Total Feedback\"].sum()"
   ]
  },
  {
   "cell_type": "markdown",
   "id": "3172aa6f",
   "metadata": {},
   "source": [
    "# 5. a agent name who have average rating between 3.5 to 4 "
   ]
  },
  {
   "cell_type": "code",
   "execution_count": 55,
   "id": "b072c526",
   "metadata": {},
   "outputs": [
    {
     "data": {
      "text/html": [
       "<div>\n",
       "<style scoped>\n",
       "    .dataframe tbody tr th:only-of-type {\n",
       "        vertical-align: middle;\n",
       "    }\n",
       "\n",
       "    .dataframe tbody tr th {\n",
       "        vertical-align: top;\n",
       "    }\n",
       "\n",
       "    .dataframe thead th {\n",
       "        text-align: right;\n",
       "    }\n",
       "</style>\n",
       "<table border=\"1\" class=\"dataframe\">\n",
       "  <thead>\n",
       "    <tr style=\"text-align: right;\">\n",
       "      <th></th>\n",
       "      <th>SL No</th>\n",
       "      <th>Date</th>\n",
       "      <th>Agent Name</th>\n",
       "      <th>Total Chats</th>\n",
       "      <th>Average Response Time</th>\n",
       "      <th>Average Resolution Time</th>\n",
       "      <th>Average Rating</th>\n",
       "      <th>Total Feedback</th>\n",
       "      <th>week</th>\n",
       "    </tr>\n",
       "  </thead>\n",
       "  <tbody>\n",
       "    <tr>\n",
       "      <th>0</th>\n",
       "      <td>1</td>\n",
       "      <td>2022-07-30</td>\n",
       "      <td>Prerna Singh</td>\n",
       "      <td>11</td>\n",
       "      <td>2022-08-18 00:00:38</td>\n",
       "      <td>2022-08-18 00:04:20</td>\n",
       "      <td>4.11</td>\n",
       "      <td>9</td>\n",
       "      <td>30</td>\n",
       "    </tr>\n",
       "    <tr>\n",
       "      <th>1</th>\n",
       "      <td>2</td>\n",
       "      <td>2022-07-30</td>\n",
       "      <td>Nandani Gupta</td>\n",
       "      <td>11</td>\n",
       "      <td>2022-08-18 00:01:15</td>\n",
       "      <td>2022-08-18 00:28:25</td>\n",
       "      <td>3.14</td>\n",
       "      <td>7</td>\n",
       "      <td>30</td>\n",
       "    </tr>\n",
       "  </tbody>\n",
       "</table>\n",
       "</div>"
      ],
      "text/plain": [
       "   SL No       Date     Agent Name  Total Chats Average Response Time  \\\n",
       "0      1 2022-07-30   Prerna Singh           11   2022-08-18 00:00:38   \n",
       "1      2 2022-07-30  Nandani Gupta           11   2022-08-18 00:01:15   \n",
       "\n",
       "  Average Resolution Time  Average Rating  Total Feedback  week  \n",
       "0     2022-08-18 00:04:20            4.11               9    30  \n",
       "1     2022-08-18 00:28:25            3.14               7    30  "
      ]
     },
     "execution_count": 55,
     "metadata": {},
     "output_type": "execute_result"
    }
   ],
   "source": [
    "ap.head(2)"
   ]
  },
  {
   "cell_type": "code",
   "execution_count": 60,
   "id": "eb312108",
   "metadata": {},
   "outputs": [
    {
     "data": {
      "text/html": [
       "<div>\n",
       "<style scoped>\n",
       "    .dataframe tbody tr th:only-of-type {\n",
       "        vertical-align: middle;\n",
       "    }\n",
       "\n",
       "    .dataframe tbody tr th {\n",
       "        vertical-align: top;\n",
       "    }\n",
       "\n",
       "    .dataframe thead th {\n",
       "        text-align: right;\n",
       "    }\n",
       "</style>\n",
       "<table border=\"1\" class=\"dataframe\">\n",
       "  <thead>\n",
       "    <tr style=\"text-align: right;\">\n",
       "      <th></th>\n",
       "      <th>Agent Name</th>\n",
       "      <th>Average Rating</th>\n",
       "    </tr>\n",
       "  </thead>\n",
       "  <tbody>\n",
       "    <tr>\n",
       "      <th>4</th>\n",
       "      <td>Swati</td>\n",
       "      <td>3.67</td>\n",
       "    </tr>\n",
       "    <tr>\n",
       "      <th>10</th>\n",
       "      <td>Manjunatha A</td>\n",
       "      <td>3.60</td>\n",
       "    </tr>\n",
       "    <tr>\n",
       "      <th>73</th>\n",
       "      <td>Boktiar Ahmed Bappy</td>\n",
       "      <td>4.00</td>\n",
       "    </tr>\n",
       "    <tr>\n",
       "      <th>76</th>\n",
       "      <td>Prateek _iot</td>\n",
       "      <td>3.75</td>\n",
       "    </tr>\n",
       "    <tr>\n",
       "      <th>78</th>\n",
       "      <td>Nandani Gupta</td>\n",
       "      <td>3.79</td>\n",
       "    </tr>\n",
       "    <tr>\n",
       "      <th>...</th>\n",
       "      <td>...</td>\n",
       "      <td>...</td>\n",
       "    </tr>\n",
       "    <tr>\n",
       "      <th>1941</th>\n",
       "      <td>Jawala Prakash</td>\n",
       "      <td>3.80</td>\n",
       "    </tr>\n",
       "    <tr>\n",
       "      <th>2018</th>\n",
       "      <td>Sanjeev Kumar</td>\n",
       "      <td>4.00</td>\n",
       "    </tr>\n",
       "    <tr>\n",
       "      <th>2021</th>\n",
       "      <td>Aditya Shinde</td>\n",
       "      <td>3.54</td>\n",
       "    </tr>\n",
       "    <tr>\n",
       "      <th>2023</th>\n",
       "      <td>Deepranjan Gupta</td>\n",
       "      <td>3.71</td>\n",
       "    </tr>\n",
       "    <tr>\n",
       "      <th>2097</th>\n",
       "      <td>Sanjeev Kumar</td>\n",
       "      <td>4.00</td>\n",
       "    </tr>\n",
       "  </tbody>\n",
       "</table>\n",
       "<p>114 rows × 2 columns</p>\n",
       "</div>"
      ],
      "text/plain": [
       "               Agent Name  Average Rating\n",
       "4                  Swati             3.67\n",
       "10           Manjunatha A            3.60\n",
       "73    Boktiar Ahmed Bappy            4.00\n",
       "76          Prateek _iot             3.75\n",
       "78          Nandani Gupta            3.79\n",
       "...                   ...             ...\n",
       "1941       Jawala Prakash            3.80\n",
       "2018        Sanjeev Kumar            4.00\n",
       "2021        Aditya Shinde            3.54\n",
       "2023     Deepranjan Gupta            3.71\n",
       "2097        Sanjeev Kumar            4.00\n",
       "\n",
       "[114 rows x 2 columns]"
      ]
     },
     "execution_count": 60,
     "metadata": {},
     "output_type": "execute_result"
    }
   ],
   "source": [
    "ap[(ap[\"Average Rating\"]>=3.5)& (ap[\"Average Rating\"]<=4)][[\"Agent Name\",\"Average Rating\"]]"
   ]
  },
  {
   "cell_type": "markdown",
   "id": "85245a59",
   "metadata": {},
   "source": [
    "# 6 . Agent name who have rating lesss then 3.5 "
   ]
  },
  {
   "cell_type": "code",
   "execution_count": 62,
   "id": "89bda535",
   "metadata": {},
   "outputs": [
    {
     "data": {
      "text/html": [
       "<div>\n",
       "<style scoped>\n",
       "    .dataframe tbody tr th:only-of-type {\n",
       "        vertical-align: middle;\n",
       "    }\n",
       "\n",
       "    .dataframe tbody tr th {\n",
       "        vertical-align: top;\n",
       "    }\n",
       "\n",
       "    .dataframe thead th {\n",
       "        text-align: right;\n",
       "    }\n",
       "</style>\n",
       "<table border=\"1\" class=\"dataframe\">\n",
       "  <thead>\n",
       "    <tr style=\"text-align: right;\">\n",
       "      <th></th>\n",
       "      <th>Agent Name</th>\n",
       "      <th>Average Rating</th>\n",
       "    </tr>\n",
       "  </thead>\n",
       "  <tbody>\n",
       "    <tr>\n",
       "      <th>1</th>\n",
       "      <td>Nandani Gupta</td>\n",
       "      <td>3.14</td>\n",
       "    </tr>\n",
       "    <tr>\n",
       "      <th>19</th>\n",
       "      <td>Hitesh Choudhary</td>\n",
       "      <td>0.00</td>\n",
       "    </tr>\n",
       "    <tr>\n",
       "      <th>20</th>\n",
       "      <td>Sanjeevan</td>\n",
       "      <td>0.00</td>\n",
       "    </tr>\n",
       "    <tr>\n",
       "      <th>21</th>\n",
       "      <td>Anirudh</td>\n",
       "      <td>0.00</td>\n",
       "    </tr>\n",
       "    <tr>\n",
       "      <th>22</th>\n",
       "      <td>Shiva Srivastava</td>\n",
       "      <td>0.00</td>\n",
       "    </tr>\n",
       "    <tr>\n",
       "      <th>...</th>\n",
       "      <td>...</td>\n",
       "      <td>...</td>\n",
       "    </tr>\n",
       "    <tr>\n",
       "      <th>2155</th>\n",
       "      <td>Sowmiya Sivakumar</td>\n",
       "      <td>0.00</td>\n",
       "    </tr>\n",
       "    <tr>\n",
       "      <th>2156</th>\n",
       "      <td>Nitin M</td>\n",
       "      <td>0.00</td>\n",
       "    </tr>\n",
       "    <tr>\n",
       "      <th>2157</th>\n",
       "      <td>Vivek</td>\n",
       "      <td>0.00</td>\n",
       "    </tr>\n",
       "    <tr>\n",
       "      <th>2158</th>\n",
       "      <td>Ayushi Mishra</td>\n",
       "      <td>0.00</td>\n",
       "    </tr>\n",
       "    <tr>\n",
       "      <th>2159</th>\n",
       "      <td>Chaitra K Hiremath</td>\n",
       "      <td>0.00</td>\n",
       "    </tr>\n",
       "  </tbody>\n",
       "</table>\n",
       "<p>1474 rows × 2 columns</p>\n",
       "</div>"
      ],
      "text/plain": [
       "              Agent Name  Average Rating\n",
       "1          Nandani Gupta            3.14\n",
       "19      Hitesh Choudhary            0.00\n",
       "20            Sanjeevan             0.00\n",
       "21              Anirudh             0.00\n",
       "22      Shiva Srivastava            0.00\n",
       "...                  ...             ...\n",
       "2155   Sowmiya Sivakumar            0.00\n",
       "2156             Nitin M            0.00\n",
       "2157              Vivek             0.00\n",
       "2158       Ayushi Mishra            0.00\n",
       "2159  Chaitra K Hiremath            0.00\n",
       "\n",
       "[1474 rows x 2 columns]"
      ]
     },
     "execution_count": 62,
     "metadata": {},
     "output_type": "execute_result"
    }
   ],
   "source": [
    "ap[(ap[\"Average Rating\"]<3.5)][[\"Agent Name\",\"Average Rating\"]]"
   ]
  },
  {
   "cell_type": "markdown",
   "id": "827e96dd",
   "metadata": {},
   "source": [
    "# 7 . agent name who have rating more then 4.5 "
   ]
  },
  {
   "cell_type": "code",
   "execution_count": 63,
   "id": "9dc9960d",
   "metadata": {},
   "outputs": [
    {
     "data": {
      "text/html": [
       "<div>\n",
       "<style scoped>\n",
       "    .dataframe tbody tr th:only-of-type {\n",
       "        vertical-align: middle;\n",
       "    }\n",
       "\n",
       "    .dataframe tbody tr th {\n",
       "        vertical-align: top;\n",
       "    }\n",
       "\n",
       "    .dataframe thead th {\n",
       "        text-align: right;\n",
       "    }\n",
       "</style>\n",
       "<table border=\"1\" class=\"dataframe\">\n",
       "  <thead>\n",
       "    <tr style=\"text-align: right;\">\n",
       "      <th></th>\n",
       "      <th>Agent Name</th>\n",
       "      <th>Average Rating</th>\n",
       "    </tr>\n",
       "  </thead>\n",
       "  <tbody>\n",
       "    <tr>\n",
       "      <th>2</th>\n",
       "      <td>Ameya Jain</td>\n",
       "      <td>4.55</td>\n",
       "    </tr>\n",
       "    <tr>\n",
       "      <th>3</th>\n",
       "      <td>Mahesh Sarade</td>\n",
       "      <td>4.71</td>\n",
       "    </tr>\n",
       "    <tr>\n",
       "      <th>5</th>\n",
       "      <td>Mukesh</td>\n",
       "      <td>4.62</td>\n",
       "    </tr>\n",
       "    <tr>\n",
       "      <th>6</th>\n",
       "      <td>Saikumarreddy N</td>\n",
       "      <td>5.00</td>\n",
       "    </tr>\n",
       "    <tr>\n",
       "      <th>7</th>\n",
       "      <td>Sanjeev Kumar</td>\n",
       "      <td>5.00</td>\n",
       "    </tr>\n",
       "    <tr>\n",
       "      <th>...</th>\n",
       "      <td>...</td>\n",
       "      <td>...</td>\n",
       "    </tr>\n",
       "    <tr>\n",
       "      <th>2100</th>\n",
       "      <td>Shubham Sharma</td>\n",
       "      <td>5.00</td>\n",
       "    </tr>\n",
       "    <tr>\n",
       "      <th>2101</th>\n",
       "      <td>Jaydeep Dixit</td>\n",
       "      <td>4.77</td>\n",
       "    </tr>\n",
       "    <tr>\n",
       "      <th>2102</th>\n",
       "      <td>Shivananda Sonwane</td>\n",
       "      <td>4.86</td>\n",
       "    </tr>\n",
       "    <tr>\n",
       "      <th>2103</th>\n",
       "      <td>Khushboo Priya</td>\n",
       "      <td>4.61</td>\n",
       "    </tr>\n",
       "    <tr>\n",
       "      <th>2104</th>\n",
       "      <td>Hrisikesh Neogi</td>\n",
       "      <td>4.56</td>\n",
       "    </tr>\n",
       "  </tbody>\n",
       "</table>\n",
       "<p>307 rows × 2 columns</p>\n",
       "</div>"
      ],
      "text/plain": [
       "              Agent Name  Average Rating\n",
       "2             Ameya Jain            4.55\n",
       "3          Mahesh Sarade            4.71\n",
       "5                Mukesh             4.62\n",
       "6        Saikumarreddy N            5.00\n",
       "7          Sanjeev Kumar            5.00\n",
       "...                  ...             ...\n",
       "2100      Shubham Sharma            5.00\n",
       "2101       Jaydeep Dixit            4.77\n",
       "2102  Shivananda Sonwane            4.86\n",
       "2103      Khushboo Priya            4.61\n",
       "2104     Hrisikesh Neogi            4.56\n",
       "\n",
       "[307 rows x 2 columns]"
      ]
     },
     "execution_count": 63,
     "metadata": {},
     "output_type": "execute_result"
    }
   ],
   "source": [
    "ap[(ap[\"Average Rating\"]>4.5)][[\"Agent Name\",\"Average Rating\"]]"
   ]
  },
  {
   "cell_type": "markdown",
   "id": "9c4e2d30",
   "metadata": {},
   "source": [
    "# 8 . how many feedaback agents have received more then 4.5 average"
   ]
  },
  {
   "cell_type": "code",
   "execution_count": 69,
   "id": "606e41ed",
   "metadata": {},
   "outputs": [],
   "source": [
    "a=ap[(ap[\"Average Rating\"]>4.5)]"
   ]
  },
  {
   "cell_type": "code",
   "execution_count": 72,
   "id": "78829d51",
   "metadata": {},
   "outputs": [
    {
     "data": {
      "text/plain": [
       "Agent Name\n",
       "Aditya Shinde              73\n",
       "Aditya_iot                 43\n",
       "Ameya Jain                150\n",
       "Anirudh                     2\n",
       "Ankitjha                    1\n",
       "Aravind                   178\n",
       "Ayushi Mishra              75\n",
       "Bharath                   231\n",
       "Boktiar Ahmed Bappy        52\n",
       "Chaitra K Hiremath          5\n",
       "Deepranjan Gupta           83\n",
       "Harikrishnan Shaji         80\n",
       "Hrisikesh Neogi           183\n",
       "Ishawant Kumar             79\n",
       "Jawala Prakash             33\n",
       "Jayant Kumar                7\n",
       "Jaydeep Dixit             179\n",
       "Khushboo Priya            134\n",
       "Madhulika G                67\n",
       "Mahesh Sarade              46\n",
       "Maitry                     81\n",
       "Manjunatha A              132\n",
       "Mithun S                   93\n",
       "Mukesh                     17\n",
       "Mukesh Rao                  1\n",
       "Muskan Garg                14\n",
       "Nandani Gupta              91\n",
       "Nishtha Jain               18\n",
       "Prabir Kumar Satapathy     53\n",
       "Prateek _iot               54\n",
       "Prerna Singh               82\n",
       "Rishav Dash                27\n",
       "Saikumarreddy N           184\n",
       "Sandipan Saha               1\n",
       "Sanjeev Kumar             164\n",
       "Saurabh Shukla              3\n",
       "Shiva Srivastava            2\n",
       "Shivan K                  130\n",
       "Shivananda Sonwane        154\n",
       "Shubham Sharma            155\n",
       "Sowmiya Sivakumar          16\n",
       "Sudhanshu Kumar             2\n",
       "Suraj S Bilgi               4\n",
       "Swati                     103\n",
       "Vivek                       3\n",
       "Wasim                     156\n",
       "Zeeshan                    48\n",
       "Name: Total Feedback, dtype: int64"
      ]
     },
     "execution_count": 72,
     "metadata": {},
     "output_type": "execute_result"
    }
   ],
   "source": [
    "a.groupby([\"Agent Name\"])[\"Total Feedback\"].sum()"
   ]
  },
  {
   "cell_type": "markdown",
   "id": "88d5926a",
   "metadata": {},
   "source": [
    "# 9 . average weekly response time for each agent "
   ]
  },
  {
   "cell_type": "code",
   "execution_count": 75,
   "id": "f7662a42",
   "metadata": {},
   "outputs": [],
   "source": [
    "ap[\"trt\"]=(ap[\"Average Response Time\"].dt.hour)*3600+(ap[\"Average Response Time\"].dt.minute)*60+(ap[\"Average Response Time\"].dt.second)"
   ]
  },
  {
   "cell_type": "code",
   "execution_count": 79,
   "id": "34ad4589",
   "metadata": {},
   "outputs": [
    {
     "data": {
      "text/plain": [
       "Agent Name  week\n",
       "Abhishek    26        0.000000\n",
       "            27        0.000000\n",
       "            28        0.000000\n",
       "            29        0.000000\n",
       "            30        0.000000\n",
       "                       ...    \n",
       "Zeeshan     26        0.000000\n",
       "            27       23.571429\n",
       "            28      123.428571\n",
       "            29       62.857143\n",
       "            30       63.833333\n",
       "Name: trt, Length: 350, dtype: float64"
      ]
     },
     "execution_count": 79,
     "metadata": {},
     "output_type": "execute_result"
    }
   ],
   "source": [
    "ap.groupby([\"Agent Name\",\"week\"])[\"trt\"].mean()"
   ]
  },
  {
   "cell_type": "markdown",
   "id": "e57c6d1f",
   "metadata": {},
   "source": [
    "# 10 . average weekely resolution time for each agents "
   ]
  },
  {
   "cell_type": "code",
   "execution_count": 80,
   "id": "60733a53",
   "metadata": {},
   "outputs": [],
   "source": [
    "ap[\"tart\"]=(ap[\"Average Resolution Time\"].dt.hour)*3600+(ap[\"Average Resolution Time\"].dt.minute)*60+(ap[\"Average Resolution Time\"].dt.second)"
   ]
  },
  {
   "cell_type": "code",
   "execution_count": 82,
   "id": "1aa1ea43",
   "metadata": {},
   "outputs": [
    {
     "data": {
      "text/plain": [
       "Agent Name  week\n",
       "Abhishek    26        0.000000\n",
       "            27        0.000000\n",
       "            28        0.000000\n",
       "            29        0.000000\n",
       "            30        0.000000\n",
       "                       ...    \n",
       "Zeeshan     26        0.000000\n",
       "            27      323.000000\n",
       "            28      984.285714\n",
       "            29      794.285714\n",
       "            30      773.500000\n",
       "Name: tart, Length: 350, dtype: float64"
      ]
     },
     "execution_count": 82,
     "metadata": {},
     "output_type": "execute_result"
    }
   ],
   "source": [
    "ap.groupby([\"Agent Name\",\"week\"])[\"tart\"].mean()"
   ]
  },
  {
   "cell_type": "markdown",
   "id": "cf38e6d9",
   "metadata": {},
   "source": [
    "# 11 . list of all agents name "
   ]
  },
  {
   "cell_type": "code",
   "execution_count": 83,
   "id": "80ad1429",
   "metadata": {
    "scrolled": true
   },
   "outputs": [
    {
     "data": {
      "text/plain": [
       "array(['Prerna Singh', 'Nandani Gupta', 'Ameya Jain', 'Mahesh Sarade',\n",
       "       'Swati ', 'Mukesh ', 'Saikumarreddy N', 'Sanjeev Kumar',\n",
       "       'Shubham Sharma', 'Nishtha Jain', 'Manjunatha A', 'Khushboo Priya',\n",
       "       'Suraj S Bilgi', 'Harikrishnan Shaji', 'Hrisikesh Neogi',\n",
       "       'Shivan K', 'Sowmiya Sivakumar', 'Madhulika G', 'Mithun S',\n",
       "       'Hitesh Choudhary', 'Sanjeevan ', 'Anirudh ', 'Shiva Srivastava',\n",
       "       'Dibyanshu ', 'Ashish ', 'Uday Mishra', 'Aditya Shinde',\n",
       "       'Jayant Kumar', 'Aditya_iot ', 'Prabir Kumar Satapathy',\n",
       "       'Saurabh Shukla', 'Wasim ', 'Samprit ', 'Maitry ', 'Abhishek ',\n",
       "       'Rishav Dash', 'Aravind ', 'Tarun ', 'Muskan Garg', 'Ankit Sharma',\n",
       "       'Bharath ', 'Ashad Nasim', 'Vasanth P', 'Aditya ', 'Amersh ',\n",
       "       'Sandipan Saha', 'Ineuron Intelligence ', 'Mahak ', 'Mukesh Rao ',\n",
       "       'Zeeshan ', 'Anurag Tiwari', 'Ankitjha ', 'Saif Khan',\n",
       "       'Jaydeep Dixit', 'Sudhanshu Kumar', 'Maneesh ', 'Hyder Abbas',\n",
       "       'Rohan ', 'Vivek ', 'Nitin M', 'Shivan_S ', 'Spuri ',\n",
       "       'Ayushi Mishra', 'Chaitra K Hiremath', 'Prateek _iot ',\n",
       "       'Boktiar Ahmed Bappy', 'Shivananda Sonwane', 'Ishawant Kumar',\n",
       "       'Deepranjan Gupta', 'Jawala Prakash'], dtype=object)"
      ]
     },
     "execution_count": 83,
     "metadata": {},
     "output_type": "execute_result"
    }
   ],
   "source": [
    "ap[\"Agent Name\"].unique()"
   ]
  },
  {
   "cell_type": "markdown",
   "id": "49e29694",
   "metadata": {},
   "source": [
    "# 12 . percentage of chat on which they have received a feedback"
   ]
  },
  {
   "cell_type": "code",
   "execution_count": 84,
   "id": "0a60f0ad",
   "metadata": {},
   "outputs": [],
   "source": [
    "ap[\"poc\"]=(ap[\"Total Feedback\"]/ap[\"Total Chats\"])*100"
   ]
  },
  {
   "cell_type": "code",
   "execution_count": 86,
   "id": "6f84dbab",
   "metadata": {},
   "outputs": [
    {
     "data": {
      "text/plain": [
       "Agent Name\n",
       "Abhishek               NaN\n",
       "Aditya                 NaN\n",
       "Aditya Shinde    58.067722\n",
       "Aditya_iot       60.188561\n",
       "Amersh                 NaN\n",
       "                   ...    \n",
       "Uday Mishra            NaN\n",
       "Vasanth P              NaN\n",
       "Vivek            47.666667\n",
       "Wasim            66.449262\n",
       "Zeeshan          65.002151\n",
       "Name: poc, Length: 70, dtype: float64"
      ]
     },
     "execution_count": 86,
     "metadata": {},
     "output_type": "execute_result"
    }
   ],
   "source": [
    "ap.groupby([\"Agent Name\"])[\"poc\"].mean()"
   ]
  },
  {
   "cell_type": "code",
   "execution_count": null,
   "id": "9fa3b060",
   "metadata": {},
   "outputs": [],
   "source": []
  },
  {
   "cell_type": "code",
   "execution_count": null,
   "id": "8fce5d20",
   "metadata": {},
   "outputs": [],
   "source": []
  },
  {
   "cell_type": "code",
   "execution_count": null,
   "id": "591d9ebd",
   "metadata": {},
   "outputs": [],
   "source": []
  },
  {
   "cell_type": "markdown",
   "id": "841e6e97",
   "metadata": {},
   "source": [
    "# 13 . Total contributation hour for each and every agents weekly basis"
   ]
  },
  {
   "cell_type": "code",
   "execution_count": 32,
   "id": "9a95d6e0",
   "metadata": {},
   "outputs": [],
   "source": [
    "al=pd.read_csv(r\"C:\\Users\\LENOVO\\ineuron\\given notes\\pandas\\AgentLogingReport.csv\",parse_dates=[\"Date\",\"Login Time\",\"Logout Time\"])"
   ]
  },
  {
   "cell_type": "code",
   "execution_count": 33,
   "id": "45fc6a01",
   "metadata": {},
   "outputs": [
    {
     "data": {
      "text/plain": [
       "SL No                   int64\n",
       "Agent                  object\n",
       "Date           datetime64[ns]\n",
       "Login Time     datetime64[ns]\n",
       "Logout Time    datetime64[ns]\n",
       "Duration               object\n",
       "dtype: object"
      ]
     },
     "execution_count": 33,
     "metadata": {},
     "output_type": "execute_result"
    }
   ],
   "source": [
    "al.dtypes"
   ]
  },
  {
   "cell_type": "code",
   "execution_count": 34,
   "id": "e2b0d616",
   "metadata": {
    "scrolled": false
   },
   "outputs": [
    {
     "data": {
      "text/html": [
       "<div>\n",
       "<style scoped>\n",
       "    .dataframe tbody tr th:only-of-type {\n",
       "        vertical-align: middle;\n",
       "    }\n",
       "\n",
       "    .dataframe tbody tr th {\n",
       "        vertical-align: top;\n",
       "    }\n",
       "\n",
       "    .dataframe thead th {\n",
       "        text-align: right;\n",
       "    }\n",
       "</style>\n",
       "<table border=\"1\" class=\"dataframe\">\n",
       "  <thead>\n",
       "    <tr style=\"text-align: right;\">\n",
       "      <th></th>\n",
       "      <th>SL No</th>\n",
       "      <th>Agent</th>\n",
       "      <th>Date</th>\n",
       "      <th>Login Time</th>\n",
       "      <th>Logout Time</th>\n",
       "      <th>Duration</th>\n",
       "    </tr>\n",
       "  </thead>\n",
       "  <tbody>\n",
       "    <tr>\n",
       "      <th>990</th>\n",
       "      <td>991</td>\n",
       "      <td>Wasim</td>\n",
       "      <td>2022-07-20</td>\n",
       "      <td>2022-08-19 09:17:25</td>\n",
       "      <td>2022-08-19 15:23:56</td>\n",
       "      <td>06:06:30</td>\n",
       "    </tr>\n",
       "    <tr>\n",
       "      <th>991</th>\n",
       "      <td>992</td>\n",
       "      <td>Madhulika G</td>\n",
       "      <td>2022-07-20</td>\n",
       "      <td>2022-08-19 09:10:13</td>\n",
       "      <td>2022-08-19 15:07:44</td>\n",
       "      <td>05:57:31</td>\n",
       "    </tr>\n",
       "    <tr>\n",
       "      <th>992</th>\n",
       "      <td>993</td>\n",
       "      <td>Harikrishnan Shaji</td>\n",
       "      <td>2022-07-20</td>\n",
       "      <td>2022-08-19 09:05:41</td>\n",
       "      <td>2022-08-19 13:00:00</td>\n",
       "      <td>03:54:18</td>\n",
       "    </tr>\n",
       "    <tr>\n",
       "      <th>993</th>\n",
       "      <td>994</td>\n",
       "      <td>Sowmiya Sivakumar</td>\n",
       "      <td>2022-07-20</td>\n",
       "      <td>2022-08-19 09:04:06</td>\n",
       "      <td>2022-08-19 16:01:53</td>\n",
       "      <td>06:57:47</td>\n",
       "    </tr>\n",
       "    <tr>\n",
       "      <th>994</th>\n",
       "      <td>995</td>\n",
       "      <td>Aravind</td>\n",
       "      <td>2022-07-20</td>\n",
       "      <td>2022-08-19 09:03:51</td>\n",
       "      <td>2022-08-19 15:15:46</td>\n",
       "      <td>06:11:55</td>\n",
       "    </tr>\n",
       "    <tr>\n",
       "      <th>995</th>\n",
       "      <td>996</td>\n",
       "      <td>Manjunatha A</td>\n",
       "      <td>2022-07-20</td>\n",
       "      <td>2022-08-19 09:03:51</td>\n",
       "      <td>2022-08-19 15:02:28</td>\n",
       "      <td>05:58:37</td>\n",
       "    </tr>\n",
       "    <tr>\n",
       "      <th>996</th>\n",
       "      <td>997</td>\n",
       "      <td>Bharath</td>\n",
       "      <td>2022-07-20</td>\n",
       "      <td>2022-08-19 09:00:49</td>\n",
       "      <td>2022-08-19 15:01:32</td>\n",
       "      <td>06:00:43</td>\n",
       "    </tr>\n",
       "    <tr>\n",
       "      <th>997</th>\n",
       "      <td>998</td>\n",
       "      <td>Khushboo Priya</td>\n",
       "      <td>2022-07-20</td>\n",
       "      <td>2022-08-19 08:59:20</td>\n",
       "      <td>2022-08-19 14:26:55</td>\n",
       "      <td>05:27:34</td>\n",
       "    </tr>\n",
       "    <tr>\n",
       "      <th>998</th>\n",
       "      <td>999</td>\n",
       "      <td>Nishtha Jain</td>\n",
       "      <td>2022-07-20</td>\n",
       "      <td>2022-08-19 08:43:55</td>\n",
       "      <td>2022-08-19 14:00:33</td>\n",
       "      <td>05:16:38</td>\n",
       "    </tr>\n",
       "    <tr>\n",
       "      <th>999</th>\n",
       "      <td>1000</td>\n",
       "      <td>Tarun</td>\n",
       "      <td>2022-07-01</td>\n",
       "      <td>2022-08-19 01:52:47</td>\n",
       "      <td>2022-08-19 12:01:07</td>\n",
       "      <td>514:08:20</td>\n",
       "    </tr>\n",
       "  </tbody>\n",
       "</table>\n",
       "</div>"
      ],
      "text/plain": [
       "     SL No               Agent       Date          Login Time  \\\n",
       "990    991               Wasim 2022-07-20 2022-08-19 09:17:25   \n",
       "991    992         Madhulika G 2022-07-20 2022-08-19 09:10:13   \n",
       "992    993  Harikrishnan Shaji 2022-07-20 2022-08-19 09:05:41   \n",
       "993    994   Sowmiya Sivakumar 2022-07-20 2022-08-19 09:04:06   \n",
       "994    995             Aravind 2022-07-20 2022-08-19 09:03:51   \n",
       "995    996        Manjunatha A 2022-07-20 2022-08-19 09:03:51   \n",
       "996    997             Bharath 2022-07-20 2022-08-19 09:00:49   \n",
       "997    998      Khushboo Priya 2022-07-20 2022-08-19 08:59:20   \n",
       "998    999        Nishtha Jain 2022-07-20 2022-08-19 08:43:55   \n",
       "999   1000               Tarun 2022-07-01 2022-08-19 01:52:47   \n",
       "\n",
       "            Logout Time   Duration  \n",
       "990 2022-08-19 15:23:56   06:06:30  \n",
       "991 2022-08-19 15:07:44   05:57:31  \n",
       "992 2022-08-19 13:00:00   03:54:18  \n",
       "993 2022-08-19 16:01:53   06:57:47  \n",
       "994 2022-08-19 15:15:46   06:11:55  \n",
       "995 2022-08-19 15:02:28   05:58:37  \n",
       "996 2022-08-19 15:01:32   06:00:43  \n",
       "997 2022-08-19 14:26:55   05:27:34  \n",
       "998 2022-08-19 14:00:33   05:16:38  \n",
       "999 2022-08-19 12:01:07  514:08:20  "
      ]
     },
     "execution_count": 34,
     "metadata": {},
     "output_type": "execute_result"
    }
   ],
   "source": [
    "al.tail(10)"
   ]
  },
  {
   "cell_type": "code",
   "execution_count": 35,
   "id": "7b13d28d",
   "metadata": {},
   "outputs": [
    {
     "name": "stderr",
     "output_type": "stream",
     "text": [
      "C:\\Users\\LENOVO\\AppData\\Local\\Temp\\ipykernel_31568\\3689320939.py:1: FutureWarning: Series.dt.weekofyear and Series.dt.week have been deprecated. Please use Series.dt.isocalendar().week instead.\n",
      "  al[\"week\"]=al[\"Date\"].dt.week\n"
     ]
    }
   ],
   "source": [
    "al[\"week\"]=al[\"Date\"].dt.week"
   ]
  },
  {
   "cell_type": "code",
   "execution_count": 36,
   "id": "45032afb",
   "metadata": {},
   "outputs": [],
   "source": [
    "al[\"Duration\"]=pd.to_timedelta(al[\"Duration\"])"
   ]
  },
  {
   "cell_type": "code",
   "execution_count": 38,
   "id": "df33f571",
   "metadata": {},
   "outputs": [
    {
     "data": {
      "text/plain": [
       "Agent\n",
       "Aditya Shinde             0 days 00:02:10\n",
       "Aditya_iot                0 days 15:43:52\n",
       "Amersh                    0 days 03:03:50\n",
       "Ameya Jain                1 days 18:04:32\n",
       "Ankitjha                  0 days 02:16:01\n",
       "Anurag Tiwari             0 days 02:46:44\n",
       "Aravind                   1 days 00:17:57\n",
       "Ayushi Mishra             1 days 14:07:18\n",
       "Bharath                   2 days 00:04:36\n",
       "Boktiar Ahmed Bappy       1 days 16:16:07\n",
       "Chaitra K Hiremath        1 days 10:19:32\n",
       "Deepranjan Gupta          4 days 10:16:31\n",
       "Dibyanshu                 2 days 04:35:45\n",
       "Harikrishnan Shaji        2 days 05:42:53\n",
       "Hrisikesh Neogi           2 days 09:34:07\n",
       "Hyder Abbas               0 days 00:23:17\n",
       "Ineuron Intelligence      0 days 01:26:55\n",
       "Ishawant Kumar            2 days 03:46:44\n",
       "Jawala Prakash            1 days 22:24:08\n",
       "Jaydeep Dixit             2 days 11:50:26\n",
       "Khushboo Priya            1 days 19:33:31\n",
       "Madhulika G               1 days 22:03:37\n",
       "Mahesh Sarade             1 days 18:55:19\n",
       "Maitry                    1 days 06:56:42\n",
       "Manjunatha A              1 days 17:16:29\n",
       "Mithun S                  1 days 21:10:25\n",
       "Mukesh                    0 days 08:54:18\n",
       "Muskan Garg               0 days 17:20:08\n",
       "Nandani Gupta             1 days 16:10:20\n",
       "Nishtha Jain              1 days 19:51:10\n",
       "Nitin M                   0 days 00:47:56\n",
       "Prabir Kumar Satapathy    1 days 09:22:38\n",
       "Prateek _iot              0 days 18:25:05\n",
       "Prerna Singh              1 days 21:42:56\n",
       "Rishav Dash               1 days 17:46:32\n",
       "Saikumarreddy N           1 days 19:08:15\n",
       "Sanjeev Kumar             1 days 20:41:14\n",
       "Saurabh Shukla            0 days 16:39:47\n",
       "Shiva Srivastava          0 days 14:59:39\n",
       "Shivan K                  1 days 12:06:08\n",
       "Shivananda Sonwane        2 days 01:17:16\n",
       "Shubham Sharma            2 days 05:47:54\n",
       "Sowmiya Sivakumar         1 days 20:45:15\n",
       "Sudhanshu Kumar           1 days 22:13:52\n",
       "Suraj S Bilgi             0 days 12:33:33\n",
       "Swati                     1 days 01:00:04\n",
       "Tarun                    21 days 10:08:20\n",
       "Wasim                     2 days 00:10:45\n",
       "Zeeshan                   2 days 01:05:19\n",
       "Name: Duration, dtype: timedelta64[ns]"
      ]
     },
     "execution_count": 38,
     "metadata": {},
     "output_type": "execute_result"
    }
   ],
   "source": [
    "al.groupby('Agent')['Duration'].sum()"
   ]
  },
  {
   "cell_type": "markdown",
   "id": "af306552",
   "metadata": {},
   "source": [
    "# 14. total percentage of active hour for a month "
   ]
  },
  {
   "cell_type": "code",
   "execution_count": 42,
   "id": "65a9e783",
   "metadata": {},
   "outputs": [],
   "source": [
    "datediff = max(al['Date'])-min(al['Date'])"
   ]
  },
  {
   "cell_type": "code",
   "execution_count": 43,
   "id": "b70e7bc7",
   "metadata": {},
   "outputs": [
    {
     "data": {
      "text/plain": [
       "Agent\n",
       "Aditya Shinde              0.005188\n",
       "Aditya_iot                 2.260217\n",
       "Amersh                     0.440214\n",
       "Ameya Jain                 6.045338\n",
       "Ankitjha                   0.325710\n",
       "Anurag Tiwari              0.399266\n",
       "Aravind                    3.491260\n",
       "Ayushi Mishra              5.477251\n",
       "Bharath                    6.907567\n",
       "Boktiar Ahmed Bappy        5.785720\n",
       "Chaitra K Hiremath         4.931833\n",
       "Deepranjan Gupta          15.269436\n",
       "Dibyanshu                  7.556873\n",
       "Harikrishnan Shaji         7.717633\n",
       "Hrisikesh Neogi            8.271352\n",
       "Hyder Abbas                0.055755\n",
       "Ineuron Intelligence       0.208134\n",
       "Ishawant Kumar             7.439496\n",
       "Jawala Prakash             6.666986\n",
       "Jaydeep Dixit              8.597781\n",
       "Khushboo Priya             6.258421\n",
       "Madhulika G                6.617856\n",
       "Mahesh Sarade              6.166946\n",
       "Maitry                     4.446121\n",
       "Manjunatha A               5.930276\n",
       "Mithun S                   6.490461\n",
       "Mukesh                     1.279454\n",
       "Muskan Garg                2.490741\n",
       "Nandani Gupta              5.771871\n",
       "Nishtha Jain               6.300686\n",
       "Nitin M                    0.114783\n",
       "Prabir Kumar Satapathy     4.795578\n",
       "Prateek _iot               2.646272\n",
       "Prerna Singh               6.568327\n",
       "Rishav Dash                6.002235\n",
       "Saikumarreddy N            6.197917\n",
       "Sanjeev Kumar              6.420578\n",
       "Saurabh Shukla             2.394117\n",
       "Shiva Srivastava           2.154334\n",
       "Shivan K                   5.187101\n",
       "Shivananda Sonwane         7.081577\n",
       "Shubham Sharma             7.729646\n",
       "Sowmiya Sivakumar          6.430196\n",
       "Sudhanshu Kumar            6.642401\n",
       "Suraj S Bilgi              1.804478\n",
       "Swati                      3.592114\n",
       "Tarun                     73.870530\n",
       "Wasim                      6.922294\n",
       "Zeeshan                    7.052961\n",
       "Name: Duration, dtype: float64"
      ]
     },
     "execution_count": 43,
     "metadata": {},
     "output_type": "execute_result"
    }
   ],
   "source": [
    "al.groupby('Agent')['Duration'].sum()/datediff*100"
   ]
  },
  {
   "cell_type": "code",
   "execution_count": null,
   "id": "f07231bc",
   "metadata": {},
   "outputs": [],
   "source": []
  },
  {
   "cell_type": "code",
   "execution_count": null,
   "id": "aa8f6fa2",
   "metadata": {},
   "outputs": [],
   "source": [
    "https://drive.google.com/file/d/1FRnbQqgK6S-mr9StNF5MurSaXhah9uoJ/view?usp=sharing\n",
    "\n",
    "\n",
    "https://drive.google.com/file/d/11rPJXr-9VoeV2Pi0RSfVehw1tbQOAjLI/view?usp=sharing\n",
    "\n",
    "https://docs.google.com/spreadsheets/d/1z4EWsGxw0YBQ1-51xZDxYNlB3ngJzg4t/edit?usp=sharing&ouid=118282207943964605599&rtpof=true&sd=true\n",
    "\n",
    "\n",
    "https://docs.google.com/spreadsheets/d/1z2n8aeFF5GoohQ3KCZw8bKogezpO9l4k/edit?usp=sharing&ouid=118282207943964605599&rtpof=true&sd=true\n",
    "\n",
    "1 .Find out there avarage rating on weekly basis keep this in a mind that they take two days of leave\n",
    "2 .Total working days for each agents \n",
    "3. Total query that you hvae taken \n",
    "4. total Feedback that you have received \n",
    "5. a agent name who have average rating between 3.5 to 4 \n",
    "6 . Agent name who have rating lesss then 3.5 \n",
    "7 . agent name who have rating more then 4.5 \n",
    "8 . how many feedaback agents have received more then 4.5 average\n",
    "9 . average weekly response time for each agent \n",
    "10 . average weekely resolution time for each agents \n",
    "11 . list of all agents name \n",
    "12 . percentage of chat on which they have received a feedback \n",
    "13 . Total contributation hour for each and every agents weekly basis \n",
    "14. total percentage of active hour for a month \n",
    "\n",
    "sunny.savita@ineuron.ai ,sudhanshu@ineuron.ai\n",
    "\n",
    "deadline of complition of this task is 12 AM IST today \n",
    "\n",
    "After that if you will submit your task i wont evaluate it at all , excuses will be given to new \n",
    "joiners "
   ]
  },
  {
   "cell_type": "code",
   "execution_count": null,
   "id": "ffb2b3f4",
   "metadata": {},
   "outputs": [],
   "source": []
  },
  {
   "cell_type": "code",
   "execution_count": null,
   "id": "e35a2cce",
   "metadata": {},
   "outputs": [],
   "source": []
  },
  {
   "cell_type": "code",
   "execution_count": null,
   "id": "f0d48c83",
   "metadata": {},
   "outputs": [],
   "source": []
  },
  {
   "cell_type": "code",
   "execution_count": null,
   "id": "2b63f078",
   "metadata": {},
   "outputs": [],
   "source": []
  },
  {
   "cell_type": "code",
   "execution_count": null,
   "id": "6693efa3",
   "metadata": {},
   "outputs": [],
   "source": []
  },
  {
   "cell_type": "code",
   "execution_count": null,
   "id": "ed959567",
   "metadata": {},
   "outputs": [],
   "source": []
  }
 ],
 "metadata": {
  "kernelspec": {
   "display_name": "Python 3 (ipykernel)",
   "language": "python",
   "name": "python3"
  },
  "language_info": {
   "codemirror_mode": {
    "name": "ipython",
    "version": 3
   },
   "file_extension": ".py",
   "mimetype": "text/x-python",
   "name": "python",
   "nbconvert_exporter": "python",
   "pygments_lexer": "ipython3",
   "version": "3.9.12"
  }
 },
 "nbformat": 4,
 "nbformat_minor": 5
}
